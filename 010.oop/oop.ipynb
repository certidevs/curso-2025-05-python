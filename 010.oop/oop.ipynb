{
 "cells": [
  {
   "cell_type": "code",
   "execution_count": 2,
   "metadata": {},
   "outputs": [],
   "source": [
    "# clase sin constructor\n",
    "\n",
    "class User: \n",
    "    email = 'user@gmail.com'\n",
    "    password = 'admin'\n",
    "\n",
    "# todos los objetos tendrán el mismo email y password\n",
    "user1 = User()\n",
    "user2 = User()\n",
    "# aunque los podemos modificar\n",
    "user1.email = 'user1@gmail.com'\n",
    "user2.email = 'user2@gmail.com'"
   ]
  },
  {
   "cell_type": "code",
   "execution_count": null,
   "metadata": {},
   "outputs": [
    {
     "name": "stdout",
     "output_type": "stream",
     "text": [
      "fin\n"
     ]
    }
   ],
   "source": [
    "class User:\n",
    "    def __init__(self, email, password):\n",
    "        self.email = email # equivalente en js: this.email = email;\n",
    "        self.password = password\n",
    "\n",
    "user1 = User('user1@gmail.com', 'abcd')\n",
    "user2 = User('user2@gmail.com', 'admin')\n",
    "# user3 = User() # da error, ya que es obligatorio pasar los datos\n",
    "print('fin')"
   ]
  },
  {
   "cell_type": "code",
   "execution_count": 15,
   "metadata": {},
   "outputs": [
    {
     "name": "stdout",
     "output_type": "stream",
     "text": [
      "Hola soy pepe@gmail.com\n"
     ]
    }
   ],
   "source": [
    "class User:\n",
    "    def __init__(self, email, password):\n",
    "        self.email = email # equivalente en js: this.email = email;\n",
    "        self.password = password\n",
    "    \n",
    "    def saludar(self):\n",
    "        print(f'Hola soy {self.email}')\n",
    "\n",
    "user1 = User('pepe@gmail.com', 'abcd')\n",
    "user1.saludar()"
   ]
  },
  {
   "cell_type": "code",
   "execution_count": 27,
   "metadata": {},
   "outputs": [
    {
     "name": "stdout",
     "output_type": "stream",
     "text": [
      "0\n",
      "5.25\n",
      "6.3\n"
     ]
    }
   ],
   "source": [
    "# class Product (ecommerce) con __init__ con 4-5 atributos, title, description, price...\n",
    "class Product:\n",
    "    def __init__(self, name, price, description, size, color):\n",
    "        self.name = name\n",
    "        self.price = price\n",
    "        self.description = description\n",
    "        self.size = size    \n",
    "        self.color = color\n",
    "\n",
    "    def __str__(self): # equivalente a toString de Java\n",
    "        return f'Producto: name {self.name}, price: {self.price}'\n",
    "    \n",
    "    # crear método que calcule y devuelva el IVA 21 % del producto en base a su price actual\n",
    "    def get_price_with_iva(self):\n",
    "        if not self.price:\n",
    "            return 0\n",
    "            \n",
    "        precio_con_iva = self.price + (self.price * 0.21)\n",
    "        print(f'El precio con IVA es {precio_con_iva}')\n",
    "        return precio_con_iva\n",
    "    \n",
    "    def get_iva(self):\n",
    "        return self.price * 0.21 if self.price else 0\n",
    "\n",
    "\n",
    "camiseta1 = Product(\"Camiseta1\", None, \"Camiseta de algodón\", \"M\", \"Rojo\")\n",
    "camiseta2 = Product(\"Camiseta2\", 25.00, \"Camiseta de poliéster\", \"L\", \"Azul\")\n",
    "camiseta3 = Product(\"Camiseta3\", 30.00, \"Camiseta de lana\", \"S\", \"Verde\")\n",
    "print(camiseta1.get_iva())\n",
    "print(camiseta2.get_iva())\n",
    "print(camiseta3.get_iva())"
   ]
  },
  {
   "cell_type": "code",
   "execution_count": 34,
   "metadata": {},
   "outputs": [
    {
     "data": {
      "text/plain": [
       "'mal'"
      ]
     },
     "execution_count": 34,
     "metadata": {},
     "output_type": "execute_result"
    }
   ],
   "source": [
    "# class Product (ecommerce) con __init__ con 4-5 atributos, title, description, price...\n",
    "class Product:\n",
    "    def __init__(self, name: str, price: float, description: str, size: int, color: str):\n",
    "        self.name = name\n",
    "        self.price = price\n",
    "        self.description = description\n",
    "        self.size = size    \n",
    "        self.color = color\n",
    "\n",
    "\n",
    "camiseta1 = Product(\"prueba\", \"mal\", \"Camiseta de poliéster\", \"L\", \"Azul\")\n",
    "camiseta1.price\n",
    "# Hemos usado mypy para detectar esta incompatibilidad de tipos\n",
    "# mypy product.py para ejecutar y detectar"
   ]
  },
  {
   "cell_type": "code",
   "execution_count": 37,
   "metadata": {},
   "outputs": [
    {
     "name": "stdout",
     "output_type": "stream",
     "text": [
      "electronics\n"
     ]
    }
   ],
   "source": [
    "# Literal para categorías o valores con un número limitado de opciones:\n",
    "from typing import Literal\n",
    "\n",
    "class Product:\n",
    "    def __init__(self, name: str, price: float, category: Literal['clothing', 'electronics', 'books']):\n",
    "        self.name = name\n",
    "        self.price = price\n",
    "        self.category = category\n",
    "\n",
    "product1 = Product(\"mesa\", 499.99, 'electronics')\n",
    "print(product1.category)"
   ]
  },
  {
   "cell_type": "code",
   "execution_count": 41,
   "metadata": {},
   "outputs": [
    {
     "name": "stdout",
     "output_type": "stream",
     "text": [
      "electronics\n"
     ]
    }
   ],
   "source": [
    "# con enum: es una agrupación de constantes\n",
    "# más recomendable si planeamos utilizar esta categoría en muchos sitios de nuestra aplicación\n",
    "# más profesional y mejor para validaciones que usar simplemente Literal\n",
    "from enum import Enum\n",
    "\n",
    "class ProductCategory(Enum):\n",
    "    CLOTHING = 'clothing'\n",
    "    ELECTRONICS = 'electronics'\n",
    "    BOOKS = 'books'\n",
    "    # ...\n",
    "\n",
    "    def __str__(self):\n",
    "        return self.value\n",
    "    \n",
    "class Product:\n",
    "    def __init__(self, name: str, price: float, category: ProductCategory):\n",
    "        self.name = name\n",
    "        self.price = price\n",
    "        self.category = category\n",
    "\n",
    "product1 = Product('micrófono', 49.99, ProductCategory.ELECTRONICS)\n",
    "print(product1.category)"
   ]
  },
  {
   "cell_type": "code",
   "execution_count": 46,
   "metadata": {},
   "outputs": [
    {
     "name": "stdout",
     "output_type": "stream",
     "text": [
      "21.0\n"
     ]
    }
   ],
   "source": [
    "# atributo a nivel de clase vs a nivel de instancia\n",
    "class Product:\n",
    "    iva = 0.21\n",
    "    def __init__(self, name, price):\n",
    "        self.name = name\n",
    "        self.price = price\n",
    "\n",
    "    def __str__(self): # equivalente a toString de Java\n",
    "        return f'Producto: name {self.name}, price: {self.price}'\n",
    "    \n",
    "    # crear método que calcule y devuelva el IVA 21 % del producto en base a su price actual\n",
    "    def get_iva(self):\n",
    "        return self.price * self.iva if self.price else 0\n",
    "    \n",
    "product1 = Product('Silla Steelcase', 100)\n",
    "print(product1.get_iva())"
   ]
  },
  {
   "cell_type": "code",
   "execution_count": null,
   "metadata": {},
   "outputs": [],
   "source": [
    "# Composición\n",
    "\n",
    "class Category: # puede ser una tabla en base de datos\n",
    "    def __init__(self, name, description, image_url):\n",
    "        self.name = name\n",
    "        self.description = description\n",
    "        self.image_url = image_url\n",
    "\n",
    "class Product: # puede ser un tabla en base de datos\n",
    "    def __init__(self, name, price, category):\n",
    "        self.name = name\n",
    "        self.price = price\n",
    "        self.category = category\n",
    "\n",
    "# Many To One\n",
    "# Many Products To One Category\n",
    "# Ejemplo:\n",
    "# Categoría smartphones podría tener varios productos apuntando a ella\n",
    "smartphone_category = Category(\"smartphones\", \"Teléfonos ...\", \"http://placehol.co/img/500\")\n",
    "\n",
    "oneplus = Product(\"One Plus 10\", 499.99, smartphone_category)\n",
    "xiaomi = Product(\"Xiaomi Redmi Note pro\", 799.99, smartphone_category)\n",
    "# De esta forma podemos tener una tabla categorías con todas las posibles categorías de producto\n",
    "# y cada producto iría asociado a una categoría"
   ]
  },
  {
   "cell_type": "code",
   "execution_count": null,
   "metadata": {},
   "outputs": [],
   "source": [
    "# TODO clase Employee, Company\n",
    "# Many To One \n",
    "# Many Employees To One Company\n",
    "class Company:\n",
    "    def __init__(self, id, name, cif):\n",
    "        self.id = id\n",
    "        self.name = name\n",
    "        self.cif = cif\n",
    "\n",
    "class Employee:\n",
    "    def __init__(self, id, nif, nombre, email, company):\n",
    "        self.id = id\n",
    "        self.nif = nif\n",
    "        self.nombre = nombre\n",
    "        self.email = email\n",
    "        self.company = company\n",
    "\n",
    "employee1 = Employee(1, '77766654R', 'Juanito', 'juan@gmail.com', None)\n",
    "\n",
    "google = Company(1, 'alphabet', 'B5567899')\n",
    "employee1 = Employee(1, '77766654R', 'Juanito', 'juan@gmail.com', google)\n",
    "employee2 = Employee(2, '77766655R', 'Juanito', 'juan2@gmail.com', google)\n",
    "# pip install mysql-connector\n",
    "# SQL insert into company...\n",
    "\n",
    "# pip install sqlalchemy\n",
    "# session.add(employee1)\n",
    "# session.commit()\n",
    "# https://docs.sqlalchemy.org/en/20/orm/quickstart.html#emit-create-table-ddl"
   ]
  },
  {
   "cell_type": "code",
   "execution_count": null,
   "metadata": {},
   "outputs": [],
   "source": [
    "# TODO clase Task, Project"
   ]
  },
  {
   "cell_type": "code",
   "execution_count": null,
   "metadata": {},
   "outputs": [],
   "source": [
    "# TODO tipo: unidireccional y bidireccional"
   ]
  },
  {
   "cell_type": "code",
   "execution_count": null,
   "metadata": {},
   "outputs": [],
   "source": [
    "# TODO clase User, Order, Product\n",
    "from datetime import datetime\n",
    "\n",
    "class User:\n",
    "    def __init__(self, id, nombre): \n",
    "        self.id = id\n",
    "        self.nombre = nombre\n",
    "\n",
    "class Purchase:\n",
    "    def __init__(self, id, user, product, quantity): \n",
    "        self.id = id\n",
    "        self.user = user\n",
    "        self.product = product\n",
    "        # agregar información extra a la compra\n",
    "        self.purchase_time = datetime.now()\n",
    "        self.quantity = quantity\n",
    "        self.total_price = product.precio * quantity\n",
    "        self.status = 'PENDING' # PENDING, CONFIRMED, FINISHED\n",
    "\n",
    "class Product:\n",
    "    def __init__(self, id, nombre, precio): \n",
    "        self.id = id\n",
    "        self.nombre = nombre\n",
    "        self.precio = precio\n",
    "\n",
    "# Many To One Purchase y User\n",
    "# Many To One Purcha y Product"
   ]
  },
  {
   "cell_type": "code",
   "execution_count": null,
   "metadata": {},
   "outputs": [],
   "source": [
    "# TODO id clave primaria\n",
    "'''\n",
    "En base de datos todas las tablas suelen tener una clave primaria, ejemplo:\n",
    "\n",
    "En SQL:\n",
    "\n",
    "`id` INT NOT NULL PRIMARY KEY AUTO_INCREMENT\n",
    "\n",
    "En Python SQLAlchemy:\n",
    "\n",
    "id: Mapped[int] = mapped_column(primary_key=True)\n",
    "'''"
   ]
  },
  {
   "cell_type": "code",
   "execution_count": 4,
   "metadata": {},
   "outputs": [
    {
     "name": "stdout",
     "output_type": "stream",
     "text": [
      "1\n",
      "2025-06-17 18:05:48.776210\n",
      "Hola1 Hola2\n"
     ]
    }
   ],
   "source": [
    "# TODO herencia. más habitual cuando se extiende funcionalidad de frameworks librerías\n",
    "from datetime import datetime\n",
    "\n",
    "class DatabaseEntity:\n",
    "    def __init__(self, id):\n",
    "        self.id = id\n",
    "        self.creation_date = datetime.now()\n",
    "\n",
    "    def saludar(self):\n",
    "        return \"Hola1\"\n",
    "\n",
    "class User(DatabaseEntity):\n",
    "    def __init__(self, id, nif, nombre):\n",
    "        super().__init__(id)\n",
    "        self.nif = nif\n",
    "        self.nombre = nombre\n",
    "\n",
    "    def saludar(self):\n",
    "        saludo = super().saludar() + ' Hola2'\n",
    "        return saludo\n",
    "\n",
    "\n",
    "user = User(1, '88877765E', \"Prueba\")\n",
    "print(user.id)\n",
    "print(user.creation_date)\n",
    "print(user.saludar())"
   ]
  },
  {
   "cell_type": "code",
   "execution_count": 1,
   "metadata": {},
   "outputs": [
    {
     "name": "stdout",
     "output_type": "stream",
     "text": [
      "sastre.alan@prueba.com\n"
     ]
    }
   ],
   "source": [
    "# TODO encapsulación\n",
    "# proteger atributos para evitar cambios accidentales\n",
    "# sin encapsular\n",
    "class Persona:\n",
    "    def __init__(self, nombre, apellido):\n",
    "        self.nombre = nombre\n",
    "        self.apellido = apellido\n",
    "        self.email = f\"{nombre.lower()}.{apellido.lower()}@python.com\"    \n",
    "\n",
    "persona = Persona(\"alan\", \"sastre\")\n",
    "persona.email = persona.apellido + '.' + persona.nombre + '@prueba.com'\n",
    "print(persona.email)"
   ]
  },
  {
   "cell_type": "code",
   "execution_count": 8,
   "metadata": {},
   "outputs": [
    {
     "name": "stdout",
     "output_type": "stream",
     "text": [
      "sastre.alan@prueba.com\n",
      "alan.sastre@python.com\n",
      "alan.modificado@python.com\n",
      "alan.modificado@python.com\n"
     ]
    }
   ],
   "source": [
    "# con encapsulación:\n",
    "class Persona:\n",
    "    def __init__(self, nombre, apellido):\n",
    "        self.nombre = nombre\n",
    "        self.apellido = apellido\n",
    "        self.__email = f\"{nombre.lower()}.{apellido.lower()}@python.com\"    \n",
    "\n",
    "    def get_email(self):\n",
    "        return self.__email\n",
    "    \n",
    "    def set_email(self, nuevo_email):\n",
    "        if nuevo_email.split('.')[0] == self.nombre and nuevo_email.split('@')[1] == 'python.com':\n",
    "            self.__email = nuevo_email\n",
    "\n",
    "\n",
    "persona = Persona(\"alan\", \"sastre\")\n",
    "persona.__email = persona.apellido + '.' + persona.nombre + '@prueba.com'\n",
    "print(persona.__email)\n",
    "print(persona.get_email())\n",
    "persona.set_email('alan.modificado@python.com')\n",
    "print(persona.get_email())\n",
    "persona.set_email('juanito.modificado@python.com')\n",
    "print(persona.get_email())"
   ]
  },
  {
   "cell_type": "code",
   "execution_count": null,
   "metadata": {},
   "outputs": [],
   "source": [
    "# TODO polimorfismo"
   ]
  },
  {
   "cell_type": "code",
   "execution_count": null,
   "metadata": {},
   "outputs": [],
   "source": [
    "# TODO app fastapi json"
   ]
  },
  {
   "cell_type": "code",
   "execution_count": null,
   "metadata": {},
   "outputs": [],
   "source": [
    "# TODO app fastapi con html jinja"
   ]
  }
 ],
 "metadata": {
  "kernelspec": {
   "display_name": ".venv (3.12.10)",
   "language": "python",
   "name": "python3"
  },
  "language_info": {
   "codemirror_mode": {
    "name": "ipython",
    "version": 3
   },
   "file_extension": ".py",
   "mimetype": "text/x-python",
   "name": "python",
   "nbconvert_exporter": "python",
   "pygments_lexer": "ipython3",
   "version": "3.12.10"
  }
 },
 "nbformat": 4,
 "nbformat_minor": 2
}
